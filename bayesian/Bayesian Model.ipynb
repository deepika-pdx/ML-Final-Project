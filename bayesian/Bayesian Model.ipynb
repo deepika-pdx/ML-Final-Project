{
 "cells": [
  {
   "cell_type": "code",
   "execution_count": 1,
   "id": "360637be",
   "metadata": {},
   "outputs": [],
   "source": [
    "import numpy as np \n",
    "import pandas as pd\n",
    "from sklearn.model_selection import train_test_split\n",
    "from sklearn.metrics import confusion_matrix,ConfusionMatrixDisplay,recall_score,precision_score, f1_score,accuracy_score\n",
    "import seaborn as sns\n",
    "import matplotlib.pyplot as plt\n",
    "from sklearn.naive_bayes import GaussianNB"
   ]
  },
  {
   "cell_type": "code",
   "execution_count": 2,
   "id": "9b49b6f7",
   "metadata": {
    "scrolled": true
   },
   "outputs": [
    {
     "data": {
      "text/html": [
       "<div>\n",
       "<style scoped>\n",
       "    .dataframe tbody tr th:only-of-type {\n",
       "        vertical-align: middle;\n",
       "    }\n",
       "\n",
       "    .dataframe tbody tr th {\n",
       "        vertical-align: top;\n",
       "    }\n",
       "\n",
       "    .dataframe thead th {\n",
       "        text-align: right;\n",
       "    }\n",
       "</style>\n",
       "<table border=\"1\" class=\"dataframe\">\n",
       "  <thead>\n",
       "    <tr style=\"text-align: right;\">\n",
       "      <th></th>\n",
       "      <th>patient_number</th>\n",
       "      <th>cholesterol</th>\n",
       "      <th>glucose</th>\n",
       "      <th>hdl_chol</th>\n",
       "      <th>chol_hdl_ratio</th>\n",
       "      <th>age</th>\n",
       "      <th>gender</th>\n",
       "      <th>height</th>\n",
       "      <th>weight</th>\n",
       "      <th>bmi</th>\n",
       "      <th>systolic_bp</th>\n",
       "      <th>diastolic_bp</th>\n",
       "      <th>waist</th>\n",
       "      <th>hip</th>\n",
       "      <th>waist_hip_ratio</th>\n",
       "      <th>Diabetes</th>\n",
       "    </tr>\n",
       "  </thead>\n",
       "  <tbody>\n",
       "    <tr>\n",
       "      <th>0</th>\n",
       "      <td>1</td>\n",
       "      <td>193</td>\n",
       "      <td>77</td>\n",
       "      <td>49</td>\n",
       "      <td>3.9</td>\n",
       "      <td>19</td>\n",
       "      <td>female</td>\n",
       "      <td>61</td>\n",
       "      <td>119</td>\n",
       "      <td>22.5</td>\n",
       "      <td>118</td>\n",
       "      <td>70</td>\n",
       "      <td>32</td>\n",
       "      <td>38</td>\n",
       "      <td>0.84</td>\n",
       "      <td>0</td>\n",
       "    </tr>\n",
       "    <tr>\n",
       "      <th>1</th>\n",
       "      <td>2</td>\n",
       "      <td>146</td>\n",
       "      <td>79</td>\n",
       "      <td>41</td>\n",
       "      <td>3.6</td>\n",
       "      <td>19</td>\n",
       "      <td>female</td>\n",
       "      <td>60</td>\n",
       "      <td>135</td>\n",
       "      <td>26.4</td>\n",
       "      <td>108</td>\n",
       "      <td>58</td>\n",
       "      <td>33</td>\n",
       "      <td>40</td>\n",
       "      <td>0.83</td>\n",
       "      <td>0</td>\n",
       "    </tr>\n",
       "    <tr>\n",
       "      <th>2</th>\n",
       "      <td>3</td>\n",
       "      <td>217</td>\n",
       "      <td>75</td>\n",
       "      <td>54</td>\n",
       "      <td>4.0</td>\n",
       "      <td>20</td>\n",
       "      <td>female</td>\n",
       "      <td>67</td>\n",
       "      <td>187</td>\n",
       "      <td>29.3</td>\n",
       "      <td>110</td>\n",
       "      <td>72</td>\n",
       "      <td>40</td>\n",
       "      <td>45</td>\n",
       "      <td>0.89</td>\n",
       "      <td>0</td>\n",
       "    </tr>\n",
       "    <tr>\n",
       "      <th>3</th>\n",
       "      <td>4</td>\n",
       "      <td>226</td>\n",
       "      <td>97</td>\n",
       "      <td>70</td>\n",
       "      <td>3.2</td>\n",
       "      <td>20</td>\n",
       "      <td>female</td>\n",
       "      <td>64</td>\n",
       "      <td>114</td>\n",
       "      <td>19.6</td>\n",
       "      <td>122</td>\n",
       "      <td>64</td>\n",
       "      <td>31</td>\n",
       "      <td>39</td>\n",
       "      <td>0.79</td>\n",
       "      <td>0</td>\n",
       "    </tr>\n",
       "    <tr>\n",
       "      <th>4</th>\n",
       "      <td>5</td>\n",
       "      <td>164</td>\n",
       "      <td>91</td>\n",
       "      <td>67</td>\n",
       "      <td>2.4</td>\n",
       "      <td>20</td>\n",
       "      <td>female</td>\n",
       "      <td>70</td>\n",
       "      <td>141</td>\n",
       "      <td>20.2</td>\n",
       "      <td>122</td>\n",
       "      <td>86</td>\n",
       "      <td>32</td>\n",
       "      <td>39</td>\n",
       "      <td>0.82</td>\n",
       "      <td>0</td>\n",
       "    </tr>\n",
       "  </tbody>\n",
       "</table>\n",
       "</div>"
      ],
      "text/plain": [
       "   patient_number  cholesterol  glucose  hdl_chol  chol_hdl_ratio  age  \\\n",
       "0               1          193       77        49             3.9   19   \n",
       "1               2          146       79        41             3.6   19   \n",
       "2               3          217       75        54             4.0   20   \n",
       "3               4          226       97        70             3.2   20   \n",
       "4               5          164       91        67             2.4   20   \n",
       "\n",
       "   gender  height  weight   bmi  systolic_bp  diastolic_bp  waist  hip  \\\n",
       "0  female      61     119  22.5          118            70     32   38   \n",
       "1  female      60     135  26.4          108            58     33   40   \n",
       "2  female      67     187  29.3          110            72     40   45   \n",
       "3  female      64     114  19.6          122            64     31   39   \n",
       "4  female      70     141  20.2          122            86     32   39   \n",
       "\n",
       "   waist_hip_ratio  Diabetes  \n",
       "0             0.84         0  \n",
       "1             0.83         0  \n",
       "2             0.89         0  \n",
       "3             0.79         0  \n",
       "4             0.82         0  "
      ]
     },
     "execution_count": 2,
     "metadata": {},
     "output_type": "execute_result"
    }
   ],
   "source": [
    "#reading data from .csv file into dataframe\n",
    "dataset = pd.read_csv(\"diabetes.csv\")\n",
    "#print(dataset)\n",
    "dataset['Diabetes'] = dataset['diabetes'].apply(lambda x: 1 if x== 'Diabetes' else 0)\n",
    "dataset = dataset.drop('diabetes', axis= 'columns')\n",
    "# dataset = dataset.drop('chol_hdl_ratio', axis ='columns')\n",
    "# dataset = dataset.drop('waist_hip_ratio', axis ='columns')\n",
    "dataset.head(5)"
   ]
  },
  {
   "cell_type": "code",
   "execution_count": 3,
   "id": "2d4858ee",
   "metadata": {},
   "outputs": [],
   "source": [
    "#gender columnn has string, replaced it 0 (male) and 1(female)\n",
    "dummies = pd.get_dummies(dataset.gender)\n",
    "#print(dummies)\n",
    "dataset = pd.concat([dataset, dummies], axis = 'columns')\n",
    "dataset.drop('gender', axis ='columns', inplace=True)\n",
    "y = dataset['Diabetes']\n",
    "X = dataset.drop('Diabetes', axis= 'columns')\n",
    "#print(X.head(5))\n",
    "#print(y.head(5))"
   ]
  },
  {
   "cell_type": "code",
   "execution_count": 4,
   "id": "71a30827",
   "metadata": {},
   "outputs": [
    {
     "data": {
      "text/plain": [
       "Index([], dtype='object')"
      ]
     },
     "execution_count": 4,
     "metadata": {},
     "output_type": "execute_result"
    }
   ],
   "source": [
    "#checking if any cloumn consists of null value\n",
    "X.columns[X.isna().any()]\n",
    "\n"
   ]
  },
  {
   "cell_type": "code",
   "execution_count": 5,
   "id": "d8099e9e",
   "metadata": {},
   "outputs": [],
   "source": [
    "#spliting into training and test data\n",
    "X_train, X_test , y_train, y_test  = train_test_split(X, y, train_size= 0.80, shuffle= True)\n",
    "#print(X_train)\n",
    "#print(y_train)\n"
   ]
  },
  {
   "cell_type": "code",
   "execution_count": 6,
   "id": "2dc67618",
   "metadata": {},
   "outputs": [
    {
     "data": {
      "text/plain": [
       "GaussianNB()"
      ]
     },
     "execution_count": 6,
     "metadata": {},
     "output_type": "execute_result"
    }
   ],
   "source": [
    "#creating, training Gaussian Naive Bayes\n",
    "model = GaussianNB()\n",
    "model.fit(X_train, y_train)"
   ]
  },
  {
   "cell_type": "code",
   "execution_count": 7,
   "id": "3755838e",
   "metadata": {},
   "outputs": [],
   "source": [
    "#testing\n",
    "y_pred = model.predict(X_test)\n",
    "# df = pd.da\n",
    "# print(y_pred.apply(lambda x: 1 if x== 'Diabetes' else 0))\n",
    "#print(y_test.shape, y_pred.shape)\n"
   ]
  },
  {
   "cell_type": "code",
   "execution_count": 8,
   "id": "6a4b2c65",
   "metadata": {},
   "outputs": [
    {
     "name": "stdout",
     "output_type": "stream",
     "text": [
      "Testing Accuracy  0.9102564102564102\n",
      "F1 score:  0.6956521739130435\n",
      "Recall score:  0.9102564102564102\n",
      "Precision score:  0.9102564102564102\n",
      "Confusion Matrix:  [[63  4]\n",
      " [ 3  8]]\n",
      "Visulization of confusion matrix\n"
     ]
    },
    {
     "data": {
      "image/png": "[encoded data removed]",
      "text/plain": [
       "<Figure size 432x288 with 2 Axes>"
      ]
     },
     "metadata": {
      "needs_background": "light"
     },
     "output_type": "display_data"
    }
   ],
   "source": [
    "#model accuracy\n",
    "\n",
    "#print('After dropping dependent columns')\n",
    "print(\"Testing Accuracy \", accuracy_score(y_test, y_pred))\n",
    "print(\"F1 score: \",f1_score(y_test, y_pred))\n",
    "print(\"Recall score: \", recall_score(y_test, y_pred, average='micro'))\n",
    "print(\"Precision score: \", precision_score(y_test, y_pred, average='micro'))\n",
    "cm = confusion_matrix(y_test, y_pred)\n",
    "print(\"Confusion Matrix: \", cm)\n",
    "print(\"Visulization of confusion matrix\")\n",
    "display = ConfusionMatrixDisplay(confusion_matrix=cm)\n",
    "display.plot()\n",
    "plt.show()"
   ]
  },
  {
   "cell_type": "code",
   "execution_count": null,
   "id": "58ff619b",
   "metadata": {},
   "outputs": [],
   "source": []
  }
 ],
 "metadata": {
  "kernelspec": {
   "display_name": "Python 3",
   "language": "python",
   "name": "python3"
  },
  "language_info": {
   "codemirror_mode": {
    "name": "ipython",
    "version": 3
   },
   "file_extension": ".py",
   "mimetype": "text/x-python",
   "name": "python",
   "nbconvert_exporter": "python",
   "pygments_lexer": "ipython3",
   "version": "3.8.8"
  }
 },
 "nbformat": 4,
 "nbformat_minor": 5
}
