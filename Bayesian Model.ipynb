{
 "cells": [
  {
   "cell_type": "code",
   "execution_count": 1,
   "id": "360637be",
   "metadata": {},
   "outputs": [],
   "source": [
    "import numpy as np \n",
    "import pandas as pd\n",
    "from sklearn.model_selection import train_test_split\n",
    "from sklearn.metrics import confusion_matrix,ConfusionMatrixDisplay,recall_score,precision_score, f1_score,accuracy_score\n",
    "import seaborn as sns\n",
    "import matplotlib.pyplot as plt\n",
    "from sklearn.naive_bayes import GaussianNB"
   ]
  },
  {
   "cell_type": "code",
   "execution_count": 2,
   "id": "9b49b6f7",
   "metadata": {
    "scrolled": true
   },
   "outputs": [],
   "source": [
    "#reading data from .csv file into dataframe\n",
    "dataset = pd.read_csv(\"diabetes.csv\")\n",
    "#print(dataset)\n",
    "dataset['Diabetes'] = dataset['diabetes'].apply(lambda x: 1 if x== 'Diabetes' else 0)\n",
    "dataset = dataset.drop('diabetes', axis= 'columns')\n",
    "#dataset.head(5)"
   ]
  },
  {
   "cell_type": "code",
   "execution_count": 3,
   "id": "2d4858ee",
   "metadata": {},
   "outputs": [],
   "source": [
    "#gender columnn has string, replaced it 0 (male) and 1(female)\n",
    "dummies = pd.get_dummies(dataset.gender)\n",
    "#print(dummies)\n",
    "dataset = pd.concat([dataset, dummies], axis = 'columns')\n",
    "dataset.drop('gender', axis ='columns', inplace=True)\n",
    "y = dataset['Diabetes']\n",
    "X = dataset.drop('Diabetes', axis= 'columns')\n",
    "#print(X.head(5))\n",
    "#print(y.head(5))"
   ]
  },
  {
   "cell_type": "code",
   "execution_count": 4,
   "id": "71a30827",
   "metadata": {},
   "outputs": [
    {
     "data": {
      "text/plain": [
       "Index([], dtype='object')"
      ]
     },
     "execution_count": 4,
     "metadata": {},
     "output_type": "execute_result"
    }
   ],
   "source": [
    "#checking if any cloumn consists of null value\n",
    "X.columns[X.isna().any()]\n",
    "\n"
   ]
  },
  {
   "cell_type": "code",
   "execution_count": 5,
   "id": "d8099e9e",
   "metadata": {},
   "outputs": [],
   "source": [
    "#spliting into training and test data\n",
    "X_train, X_test , y_train, y_test  = train_test_split(X, y, train_size= 0.80, shuffle= True)\n",
    "#print(X_train)\n",
    "#print(y_train)\n"
   ]
  },
  {
   "cell_type": "code",
   "execution_count": 6,
   "id": "2dc67618",
   "metadata": {},
   "outputs": [
    {
     "data": {
      "text/plain": [
       "GaussianNB()"
      ]
     },
     "execution_count": 6,
     "metadata": {},
     "output_type": "execute_result"
    }
   ],
   "source": [
    "#creating, training Gaussian Naive Bayes\n",
    "model = GaussianNB()\n",
    "model.fit(X_train, y_train)"
   ]
  },
  {
   "cell_type": "code",
   "execution_count": 7,
   "id": "3755838e",
   "metadata": {},
   "outputs": [],
   "source": [
    "#testing\n",
    "y_pred = model.predict(X_test)\n",
    "# df = pd.da\n",
    "# print(y_pred.apply(lambda x: 1 if x== 'Diabetes' else 0))\n",
    "#print(y_test.shape, y_pred.shape)\n"
   ]
  },
  {
   "cell_type": "code",
   "execution_count": 8,
   "id": "6a4b2c65",
   "metadata": {},
   "outputs": [
    {
     "name": "stdout",
     "output_type": "stream",
     "text": [
      "Testing Accuracy  0.8205128205128205\n"
     ]
    }
   ],
   "source": [
    "#model accuracy\n",
    "print(\"Testing Accuracy \", accuracy_score(y_test, y_pred))\n"
   ]
  },
  {
   "cell_type": "code",
   "execution_count": null,
   "id": "58ff619b",
   "metadata": {},
   "outputs": [],
   "source": []
  }
 ],
 "metadata": {
  "kernelspec": {
   "display_name": "Python 3",
   "language": "python",
   "name": "python3"
  },
  "language_info": {
   "codemirror_mode": {
    "name": "ipython",
    "version": 3
   },
   "file_extension": ".py",
   "mimetype": "text/x-python",
   "name": "python",
   "nbconvert_exporter": "python",
   "pygments_lexer": "ipython3",
   "version": "3.8.8"
  }
 },
 "nbformat": 4,
 "nbformat_minor": 5
}
