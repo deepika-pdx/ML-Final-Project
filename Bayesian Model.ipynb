{
 "cells": [
  {
   "cell_type": "code",
   "execution_count": 43,
   "id": "bfc8cc6c",
   "metadata": {},
   "outputs": [
    {
     "name": "stdout",
     "output_type": "stream",
     "text": [
      "Training Accuracy  1.0\n",
      "Testing Accuracy  1.0\n"
     ]
    }
   ],
   "source": [
    "import pandas as pd\n",
    "import numpy as np\n",
    "from sklearn.model_selection import train_test_split\n",
    "from sklearn.naive_bayes import GaussianNB\n",
    "\n",
    "\n",
    "#reading data from .csv file into dataframe\n",
    "dataset = pd.read_csv(\"diabetes.csv\")\n",
    "#print(dataset)\n",
    "dataset['Diabetes'] = dataset['diabetes'].apply(lambda x: 1 if x== 'Diabetes' else 0)\n",
    "# dataset.head(5)\n",
    "\n",
    "#separating inputs and target\n",
    "y = dataset['diabetes']\n",
    "X = dataset.drop('diabetes', axis= 'columns')\n",
    "# print (X, y)\n",
    "\n",
    "#gender columnn has string replaced it 0 (male) and 1(female)\n",
    "dummies = pd.get_dummies(X.gender)\n",
    "#print(dummies)\n",
    "X = pd.concat([X, dummies], axis = 'columns')\n",
    "X.drop('gender', axis ='columns', inplace=True)\n",
    "#X.head(5)\n",
    "\n",
    "#checking if any cloumn consists of null value\n",
    "X.columns[X.isna().any()]\n",
    "\n",
    "\n",
    "#spliting into training and test data\n",
    "X_train, X_test , y_train, y_test  = train_test_split(X, y, train_size= 0.80, shuffle= True)\n",
    "# print(len(X_train))\n",
    "# print(len(X_test))\n",
    "\n",
    "\n",
    "#creating, training Gaussian Naive Bayes\n",
    "model = GaussianNB()\n",
    "model.fit(X_train, y_train)\n",
    "\n",
    "\n",
    "#testing\n",
    "prediction = model.predict(X_test)\n",
    "#print(prediction)\n",
    "#print(y_test)\n",
    "\n",
    "#model accuracy\n",
    "print(\"Training Accuracy \", model.score(X_train, y_train))\n",
    "print(\"Testing Accuracy \", model.score(X_test, y_test))\n",
    "\n"
   ]
  },
  {
   "cell_type": "code",
   "execution_count": null,
   "id": "85c0eb1b",
   "metadata": {},
   "outputs": [],
   "source": []
  },
  {
   "cell_type": "code",
   "execution_count": null,
   "id": "5e85ddea",
   "metadata": {},
   "outputs": [],
   "source": []
  },
  {
   "cell_type": "code",
   "execution_count": null,
   "id": "e08c5280",
   "metadata": {},
   "outputs": [],
   "source": []
  }
 ],
 "metadata": {
  "kernelspec": {
   "display_name": "Python 3",
   "language": "python",
   "name": "python3"
  },
  "language_info": {
   "codemirror_mode": {
    "name": "ipython",
    "version": 3
   },
   "file_extension": ".py",
   "mimetype": "text/x-python",
   "name": "python",
   "nbconvert_exporter": "python",
   "pygments_lexer": "ipython3",
   "version": "3.8.8"
  }
 },
 "nbformat": 4,
 "nbformat_minor": 5
}
